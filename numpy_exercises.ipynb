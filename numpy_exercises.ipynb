{
 "cells": [
  {
   "cell_type": "code",
   "execution_count": 1,
   "id": "3fde4199",
   "metadata": {},
   "outputs": [],
   "source": [
    "import numpy as np"
   ]
  },
  {
   "cell_type": "code",
   "execution_count": 2,
   "id": "0c44e4dc",
   "metadata": {},
   "outputs": [],
   "source": [
    "a = np.array([4, 10, 12, 23, -2, -1, 0, 0, 0, -6, 3, -7])"
   ]
  },
  {
   "cell_type": "code",
   "execution_count": 3,
   "id": "d6b4d90c",
   "metadata": {},
   "outputs": [
    {
     "name": "stdout",
     "output_type": "stream",
     "text": [
      "4\n"
     ]
    }
   ],
   "source": [
    "count = 0\n",
    "\n",
    "for i in a:\n",
    "    if i <0:\n",
    "        count += 1\n",
    "print(count)"
   ]
  },
  {
   "cell_type": "code",
   "execution_count": 4,
   "id": "9879d4f0",
   "metadata": {},
   "outputs": [
    {
     "data": {
      "text/plain": [
       "4"
      ]
     },
     "execution_count": 4,
     "metadata": {},
     "output_type": "execute_result"
    }
   ],
   "source": [
    "#1\n",
    "np.count_nonzero(a<0) \n",
    "    "
   ]
  },
  {
   "cell_type": "code",
   "execution_count": 7,
   "id": "ba62ccb6",
   "metadata": {},
   "outputs": [
    {
     "data": {
      "text/plain": [
       "8"
      ]
     },
     "execution_count": 7,
     "metadata": {},
     "output_type": "execute_result"
    }
   ],
   "source": [
    "#2\n",
    "np.count_nonzero(a>=0)"
   ]
  },
  {
   "cell_type": "code",
   "execution_count": 31,
   "id": "5b0bc4c9",
   "metadata": {},
   "outputs": [
    {
     "data": {
      "text/plain": [
       "6"
      ]
     },
     "execution_count": 31,
     "metadata": {},
     "output_type": "execute_result"
    }
   ],
   "source": [
    "#3\n",
    "y = a % 2\n",
    "y= x == 0 \n",
    "evens = a[y]\n",
    "evens\n",
    "\n",
    "np.count_nonzero(evens >= 0)"
   ]
  },
  {
   "cell_type": "code",
   "execution_count": 29,
   "id": "44afabbb",
   "metadata": {},
   "outputs": [
    {
     "data": {
      "text/plain": [
       "array([ 4,  4,  4, 10,  4, 10,  4,  4,  4,  4, 10, 10])"
      ]
     },
     "execution_count": 29,
     "metadata": {},
     "output_type": "execute_result"
    }
   ],
   "source": [
    "a[x]\n"
   ]
  },
  {
   "cell_type": "code",
   "execution_count": null,
   "id": "1b5d0fd1",
   "metadata": {},
   "outputs": [],
   "source": [
    "#4\n",
    "add_three = a + 3\n",
    "\n",
    "np.count_nonzero(add_three >0)"
   ]
  },
  {
   "cell_type": "code",
   "execution_count": 20,
   "id": "70e441a5",
   "metadata": {},
   "outputs": [
    {
     "data": {
      "text/plain": [
       "(74.0, 144.0243035046516)"
      ]
     },
     "execution_count": 20,
     "metadata": {},
     "output_type": "execute_result"
    }
   ],
   "source": [
    "#5\n",
    "square = a ** 2\n",
    "square.mean()"
   ]
  },
  {
   "cell_type": "code",
   "execution_count": 21,
   "id": "aee24de5",
   "metadata": {},
   "outputs": [
    {
     "data": {
      "text/plain": [
       "144.0243035046516"
      ]
     },
     "execution_count": 21,
     "metadata": {},
     "output_type": "execute_result"
    }
   ],
   "source": [
    "square.std()"
   ]
  },
  {
   "cell_type": "code",
   "execution_count": 34,
   "id": "b301c3c3",
   "metadata": {},
   "outputs": [
    {
     "data": {
      "text/plain": [
       "0.0"
      ]
     },
     "execution_count": 34,
     "metadata": {},
     "output_type": "execute_result"
    }
   ],
   "source": [
    "a.mean()\n",
    "\n",
    "centered = a - a.mean()\n",
    "\n",
    "centered.mean()"
   ]
  },
  {
   "cell_type": "code",
   "execution_count": 26,
   "id": "70d3f79e",
   "metadata": {},
   "outputs": [
    {
     "data": {
      "text/plain": [
       "array([ 0.12403473,  0.86824314,  1.11631261,  2.48069469, -0.62017367,\n",
       "       -0.49613894, -0.3721042 , -0.3721042 , -0.3721042 , -1.11631261,\n",
       "        0.        , -1.24034735])"
      ]
     },
     "execution_count": 26,
     "metadata": {},
     "output_type": "execute_result"
    }
   ],
   "source": [
    "# 7 \n",
    "z_score = ((a-a.mean())/(a.std()))\n",
    "z_score\n"
   ]
  },
  {
   "cell_type": "code",
   "execution_count": null,
   "id": "4351f3b2",
   "metadata": {},
   "outputs": [],
   "source": []
  }
 ],
 "metadata": {
  "kernelspec": {
   "display_name": "Python 3 (ipykernel)",
   "language": "python",
   "name": "python3"
  },
  "language_info": {
   "codemirror_mode": {
    "name": "ipython",
    "version": 3
   },
   "file_extension": ".py",
   "mimetype": "text/x-python",
   "name": "python",
   "nbconvert_exporter": "python",
   "pygments_lexer": "ipython3",
   "version": "3.9.7"
  }
 },
 "nbformat": 4,
 "nbformat_minor": 5
}
