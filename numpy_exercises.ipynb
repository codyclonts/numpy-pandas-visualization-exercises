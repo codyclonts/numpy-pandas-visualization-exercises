{
 "cells": [
  {
   "cell_type": "code",
   "execution_count": 1,
   "id": "3fde4199",
   "metadata": {},
   "outputs": [],
   "source": [
    "import numpy as np"
   ]
  },
  {
   "cell_type": "code",
   "execution_count": 2,
   "id": "0c44e4dc",
   "metadata": {},
   "outputs": [],
   "source": [
    "a = np.array([4, 10, 12, 23, -2, -1, 0, 0, 0, -6, 3, -7])"
   ]
  },
  {
   "cell_type": "code",
   "execution_count": 3,
   "id": "d6b4d90c",
   "metadata": {},
   "outputs": [
    {
     "name": "stdout",
     "output_type": "stream",
     "text": [
      "4\n"
     ]
    }
   ],
   "source": [
    "count = 0\n",
    "\n",
    "for i in a:\n",
    "    if i <0:\n",
    "        count += 1\n",
    "print(count)"
   ]
  },
  {
   "cell_type": "code",
   "execution_count": 4,
   "id": "9879d4f0",
   "metadata": {},
   "outputs": [
    {
     "data": {
      "text/plain": [
       "4"
      ]
     },
     "execution_count": 4,
     "metadata": {},
     "output_type": "execute_result"
    }
   ],
   "source": [
    "#1\n",
    "np.count_nonzero(a<0) \n",
    "    "
   ]
  },
  {
   "cell_type": "code",
   "execution_count": 5,
   "id": "ba62ccb6",
   "metadata": {},
   "outputs": [
    {
     "data": {
      "text/plain": [
       "8"
      ]
     },
     "execution_count": 5,
     "metadata": {},
     "output_type": "execute_result"
    }
   ],
   "source": [
    "#2\n",
    "np.count_nonzero(a>=0)"
   ]
  },
  {
   "cell_type": "code",
   "execution_count": 7,
   "id": "5b0bc4c9",
   "metadata": {},
   "outputs": [
    {
     "data": {
      "text/plain": [
       "6"
      ]
     },
     "execution_count": 7,
     "metadata": {},
     "output_type": "execute_result"
    }
   ],
   "source": [
    "#3\n",
    "x = a % 2\n",
    "y= x == 0 \n",
    "evens = a[y]\n",
    "evens\n",
    "\n",
    "np.count_nonzero(evens >= 0)"
   ]
  },
  {
   "cell_type": "code",
   "execution_count": 8,
   "id": "2f509a8f",
   "metadata": {},
   "outputs": [
    {
     "data": {
      "text/plain": [
       "array([ 4,  4,  4, 10,  4, 10,  4,  4,  4,  4, 10, 10])"
      ]
     },
     "execution_count": 8,
     "metadata": {},
     "output_type": "execute_result"
    }
   ],
   "source": [
    "a[x]\n"
   ]
  },
  {
   "cell_type": "code",
   "execution_count": 9,
   "id": "2007f618",
   "metadata": {},
   "outputs": [
    {
     "data": {
      "text/plain": [
       "10"
      ]
     },
     "execution_count": 9,
     "metadata": {},
     "output_type": "execute_result"
    }
   ],
   "source": [
    "#4\n",
    "add_three = a + 3\n",
    "\n",
    "np.count_nonzero(add_three >0)"
   ]
  },
  {
   "cell_type": "code",
   "execution_count": 10,
   "id": "4916f2b4",
   "metadata": {},
   "outputs": [
    {
     "data": {
      "text/plain": [
       "74.0"
      ]
     },
     "execution_count": 10,
     "metadata": {},
     "output_type": "execute_result"
    }
   ],
   "source": [
    "#5\n",
    "square = a ** 2\n",
    "square.mean()"
   ]
  },
  {
   "cell_type": "code",
   "execution_count": 11,
   "id": "e3d87672",
   "metadata": {},
   "outputs": [
    {
     "data": {
      "text/plain": [
       "144.0243035046516"
      ]
     },
     "execution_count": 11,
     "metadata": {},
     "output_type": "execute_result"
    }
   ],
   "source": [
    "square.std()"
   ]
  },
  {
   "cell_type": "code",
   "execution_count": 12,
   "id": "80b12716",
   "metadata": {},
   "outputs": [
    {
     "data": {
      "text/plain": [
       "0.0"
      ]
     },
     "execution_count": 12,
     "metadata": {},
     "output_type": "execute_result"
    }
   ],
   "source": [
    "a.mean()\n",
    "\n",
    "centered = a - a.mean()\n",
    "\n",
    "centered.mean()"
   ]
  },
  {
   "cell_type": "code",
   "execution_count": 13,
   "id": "002a4af7",
   "metadata": {},
   "outputs": [
    {
     "data": {
      "text/plain": [
       "array([ 0.12403473,  0.86824314,  1.11631261,  2.48069469, -0.62017367,\n",
       "       -0.49613894, -0.3721042 , -0.3721042 , -0.3721042 , -1.11631261,\n",
       "        0.        , -1.24034735])"
      ]
     },
     "execution_count": 13,
     "metadata": {},
     "output_type": "execute_result"
    }
   ],
   "source": [
    "# 7 \n",
    "z_score = ((a-a.mean())/(a.std()))\n",
    "z_score\n"
   ]
  },
  {
   "cell_type": "code",
   "execution_count": 14,
   "id": "1f043a61",
   "metadata": {},
   "outputs": [
    {
     "data": {
      "text/plain": [
       "55"
      ]
     },
     "execution_count": 14,
     "metadata": {},
     "output_type": "execute_result"
    }
   ],
   "source": [
    "#pt 1 exercise 1\n",
    "a = [1, 2, 3, 4, 5, 6, 7, 8, 9, 10]\n",
    "\n",
    "sum_of_a = sum(a)\n",
    "sum_of_a"
   ]
  },
  {
   "cell_type": "code",
   "execution_count": 15,
   "id": "1ee183c5",
   "metadata": {},
   "outputs": [
    {
     "data": {
      "text/plain": [
       "1"
      ]
     },
     "execution_count": 15,
     "metadata": {},
     "output_type": "execute_result"
    }
   ],
   "source": [
    "#exercise 2\n",
    "min_of_a = min(a)\n",
    "min_of_a"
   ]
  },
  {
   "cell_type": "code",
   "execution_count": 16,
   "id": "2ba404c1",
   "metadata": {},
   "outputs": [
    {
     "data": {
      "text/plain": [
       "10"
      ]
     },
     "execution_count": 16,
     "metadata": {},
     "output_type": "execute_result"
    }
   ],
   "source": [
    "#exercise 3\n",
    "max_of_a = max(a)\n",
    "max_of_a"
   ]
  },
  {
   "cell_type": "code",
   "execution_count": 17,
   "id": "b476a825",
   "metadata": {},
   "outputs": [
    {
     "data": {
      "text/plain": [
       "5.5"
      ]
     },
     "execution_count": 17,
     "metadata": {},
     "output_type": "execute_result"
    }
   ],
   "source": [
    "# exercise 4 \n",
    "mean_of_a = sum(a) / len(a)\n",
    "mean_of_a"
   ]
  },
  {
   "cell_type": "code",
   "execution_count": 18,
   "id": "41157368",
   "metadata": {},
   "outputs": [
    {
     "data": {
      "text/plain": [
       "3628800"
      ]
     },
     "execution_count": 18,
     "metadata": {},
     "output_type": "execute_result"
    }
   ],
   "source": [
    "# exercise 5\n",
    "\n",
    "product_of_a = 1\n",
    "for n in a:\n",
    "    product_of_a *= n\n",
    "product_of_a\n"
   ]
  },
  {
   "cell_type": "code",
   "execution_count": 19,
   "id": "3b095524",
   "metadata": {},
   "outputs": [
    {
     "data": {
      "text/plain": [
       "[1, 4, 9, 16, 25, 36, 49, 64, 81, 100]"
      ]
     },
     "execution_count": 19,
     "metadata": {},
     "output_type": "execute_result"
    }
   ],
   "source": [
    "#6\n",
    "squares_of_a = [number ** 2 for number in a]\n",
    "squares_of_a"
   ]
  },
  {
   "cell_type": "code",
   "execution_count": 20,
   "id": "5596658d",
   "metadata": {},
   "outputs": [
    {
     "data": {
      "text/plain": [
       "[1, 3, 5, 7, 9]"
      ]
     },
     "execution_count": 20,
     "metadata": {},
     "output_type": "execute_result"
    }
   ],
   "source": [
    "# 7\n",
    "odds_in_a = [odd for odd in a if odd %2]\n",
    "odds_in_a"
   ]
  },
  {
   "cell_type": "code",
   "execution_count": 21,
   "id": "f8e2b27c",
   "metadata": {},
   "outputs": [
    {
     "data": {
      "text/plain": [
       "[2, 4, 6, 8, 10]"
      ]
     },
     "execution_count": 21,
     "metadata": {},
     "output_type": "execute_result"
    }
   ],
   "source": [
    "# 8\n",
    "evens_in_a = [even for even in a if not even % 2]\n",
    "evens_in_a\n"
   ]
  },
  {
   "cell_type": "code",
   "execution_count": 22,
   "id": "eabeb8bd",
   "metadata": {},
   "outputs": [],
   "source": [
    "# part 2 exercises\n",
    "\n"
   ]
  },
  {
   "cell_type": "code",
   "execution_count": 38,
   "id": "41669d2f",
   "metadata": {},
   "outputs": [],
   "source": [
    "#1 \n",
    "b = [\n",
    "    [3,4,5],\n",
    "    [6,7,8]\n",
    "]\n",
    "b = np.array(b)"
   ]
  },
  {
   "cell_type": "code",
   "execution_count": 39,
   "id": "9a3d3401",
   "metadata": {},
   "outputs": [
    {
     "data": {
      "text/plain": [
       "[3, 4, 5, 6, 7, 8]"
      ]
     },
     "execution_count": 39,
     "metadata": {},
     "output_type": "execute_result"
    }
   ],
   "source": [
    "flattened_list = []\n",
    "for numbers in b:\n",
    "    for n in numbers:\n",
    "        flattened_list.append(n)\n",
    "flattened_list\n"
   ]
  },
  {
   "cell_type": "code",
   "execution_count": 40,
   "id": "53400cd0",
   "metadata": {},
   "outputs": [
    {
     "data": {
      "text/plain": [
       "33"
      ]
     },
     "execution_count": 40,
     "metadata": {},
     "output_type": "execute_result"
    }
   ],
   "source": [
    "b.sum()"
   ]
  },
  {
   "cell_type": "code",
   "execution_count": 41,
   "id": "26180411",
   "metadata": {},
   "outputs": [
    {
     "data": {
      "text/plain": [
       "3"
      ]
     },
     "execution_count": 41,
     "metadata": {},
     "output_type": "execute_result"
    }
   ],
   "source": [
    "# 2 \n",
    "b.min()"
   ]
  },
  {
   "cell_type": "code",
   "execution_count": 42,
   "id": "c76741e4",
   "metadata": {},
   "outputs": [
    {
     "data": {
      "text/plain": [
       "8"
      ]
     },
     "execution_count": 42,
     "metadata": {},
     "output_type": "execute_result"
    }
   ],
   "source": [
    "#3\n",
    "b.max()"
   ]
  },
  {
   "cell_type": "code",
   "execution_count": 43,
   "id": "6e4962c6",
   "metadata": {},
   "outputs": [
    {
     "data": {
      "text/plain": [
       "5.5"
      ]
     },
     "execution_count": 43,
     "metadata": {},
     "output_type": "execute_result"
    }
   ],
   "source": [
    "#4\n",
    "b.mean()"
   ]
  },
  {
   "cell_type": "code",
   "execution_count": 44,
   "id": "705c55aa",
   "metadata": {},
   "outputs": [
    {
     "data": {
      "text/plain": [
       "20160"
      ]
     },
     "execution_count": 44,
     "metadata": {},
     "output_type": "execute_result"
    }
   ],
   "source": [
    "#5\n",
    "b.prod()"
   ]
  },
  {
   "cell_type": "code",
   "execution_count": 45,
   "id": "4e65c9e8",
   "metadata": {},
   "outputs": [
    {
     "data": {
      "text/plain": [
       "array([[ 9, 16, 25],\n",
       "       [36, 49, 64]])"
      ]
     },
     "execution_count": 45,
     "metadata": {},
     "output_type": "execute_result"
    }
   ],
   "source": [
    "#6\n",
    "b**2"
   ]
  },
  {
   "cell_type": "code",
   "execution_count": 46,
   "id": "f58598e0",
   "metadata": {},
   "outputs": [
    {
     "data": {
      "text/plain": [
       "array([3, 5, 7])"
      ]
     },
     "execution_count": 46,
     "metadata": {},
     "output_type": "execute_result"
    }
   ],
   "source": [
    "#7\n",
    "b[b%2==1]"
   ]
  },
  {
   "cell_type": "code",
   "execution_count": 47,
   "id": "7f56e17b",
   "metadata": {},
   "outputs": [
    {
     "data": {
      "text/plain": [
       "array([4, 6, 8])"
      ]
     },
     "execution_count": 47,
     "metadata": {},
     "output_type": "execute_result"
    }
   ],
   "source": [
    "#8 \n",
    "b[b%2==0]"
   ]
  },
  {
   "cell_type": "code",
   "execution_count": 48,
   "id": "a9598783",
   "metadata": {},
   "outputs": [
    {
     "data": {
      "text/plain": [
       "(2, 3)"
      ]
     },
     "execution_count": 48,
     "metadata": {},
     "output_type": "execute_result"
    }
   ],
   "source": [
    "#9\n",
    "b.shape"
   ]
  },
  {
   "cell_type": "code",
   "execution_count": 49,
   "id": "b450dc62",
   "metadata": {},
   "outputs": [
    {
     "data": {
      "text/plain": [
       "array([[3, 6],\n",
       "       [4, 7],\n",
       "       [5, 8]])"
      ]
     },
     "execution_count": 49,
     "metadata": {},
     "output_type": "execute_result"
    }
   ],
   "source": [
    "#10\n",
    "b.T"
   ]
  },
  {
   "cell_type": "code",
   "execution_count": 50,
   "id": "af82362b",
   "metadata": {},
   "outputs": [
    {
     "data": {
      "text/plain": [
       "array([[3, 4, 5, 6, 7, 8]])"
      ]
     },
     "execution_count": 50,
     "metadata": {},
     "output_type": "execute_result"
    }
   ],
   "source": [
    "b.reshape(1,6)"
   ]
  },
  {
   "cell_type": "code",
   "execution_count": 51,
   "id": "bb35f331",
   "metadata": {},
   "outputs": [
    {
     "data": {
      "text/plain": [
       "array([[3],\n",
       "       [4],\n",
       "       [5],\n",
       "       [6],\n",
       "       [7],\n",
       "       [8]])"
      ]
     },
     "execution_count": 51,
     "metadata": {},
     "output_type": "execute_result"
    }
   ],
   "source": [
    "b.reshape(6,1)"
   ]
  },
  {
   "cell_type": "code",
   "execution_count": null,
   "id": "9b9949a9",
   "metadata": {},
   "outputs": [],
   "source": []
  }
 ],
 "metadata": {
  "kernelspec": {
   "display_name": "Python 3 (ipykernel)",
   "language": "python",
   "name": "python3"
  },
  "language_info": {
   "codemirror_mode": {
    "name": "ipython",
    "version": 3
   },
   "file_extension": ".py",
   "mimetype": "text/x-python",
   "name": "python",
   "nbconvert_exporter": "python",
   "pygments_lexer": "ipython3",
   "version": "3.9.7"
  }
 },
 "nbformat": 4,
 "nbformat_minor": 5
}
