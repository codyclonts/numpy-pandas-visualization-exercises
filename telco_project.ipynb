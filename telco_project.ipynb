{
 "cells": [
  {
   "cell_type": "markdown",
   "id": "fcb96a1b",
   "metadata": {},
   "source": [
    "# STEP 1 \n",
    "### define your goal\n",
    "\n",
    "#### try to determine factors that lead to churn of telcoCo customers in order to attempt to mitigate those factors. \n",
    "#### The target for this information is stakeholders that could enact change that could lead to a reduction in churn \n",
    "#### I think that the monthly charges that customers are being charged could lead to more churn and that monthly charges could potentially be linked to tenure. perhaps those that have a higher tenure were got a deal on their phone/internet that gave them better monthly rates. \n",
    "#### the minimum viable product would be being able to present to the stakeholders potential links to what is causing churn. \n"
   ]
  },
  {
   "cell_type": "code",
   "execution_count": 1,
   "id": "58b95471",
   "metadata": {},
   "outputs": [],
   "source": [
    "import pandas as pd \n",
    "import matplotlib.pyplot as plt\n",
    "import seaborn as sns\n",
    "import numpy as np "
   ]
  },
  {
   "cell_type": "code",
   "execution_count": 33,
   "id": "b8f5b1bd",
   "metadata": {},
   "outputs": [
    {
     "data": {
      "text/html": [
       "<div>\n",
       "<style scoped>\n",
       "    .dataframe tbody tr th:only-of-type {\n",
       "        vertical-align: middle;\n",
       "    }\n",
       "\n",
       "    .dataframe tbody tr th {\n",
       "        vertical-align: top;\n",
       "    }\n",
       "\n",
       "    .dataframe thead th {\n",
       "        text-align: right;\n",
       "    }\n",
       "</style>\n",
       "<table border=\"1\" class=\"dataframe\">\n",
       "  <thead>\n",
       "    <tr style=\"text-align: right;\">\n",
       "      <th></th>\n",
       "      <th>customer_id</th>\n",
       "      <th>gender</th>\n",
       "      <th>is_senior_citizen</th>\n",
       "      <th>partner</th>\n",
       "      <th>dependents</th>\n",
       "      <th>phone_service</th>\n",
       "      <th>internet_service</th>\n",
       "      <th>contract_type</th>\n",
       "      <th>payment_type</th>\n",
       "      <th>monthly_charges</th>\n",
       "      <th>total_charges</th>\n",
       "      <th>churn</th>\n",
       "      <th>tenure</th>\n",
       "    </tr>\n",
       "  </thead>\n",
       "  <tbody>\n",
       "    <tr>\n",
       "      <th>0</th>\n",
       "      <td>0002-ORFBO</td>\n",
       "      <td>Female</td>\n",
       "      <td>0</td>\n",
       "      <td>Yes</td>\n",
       "      <td>Yes</td>\n",
       "      <td>1</td>\n",
       "      <td>1</td>\n",
       "      <td>1</td>\n",
       "      <td>Mailed check</td>\n",
       "      <td>65.6</td>\n",
       "      <td>593.30</td>\n",
       "      <td>No</td>\n",
       "      <td>9.0</td>\n",
       "    </tr>\n",
       "    <tr>\n",
       "      <th>1</th>\n",
       "      <td>0003-MKNFE</td>\n",
       "      <td>Male</td>\n",
       "      <td>0</td>\n",
       "      <td>No</td>\n",
       "      <td>No</td>\n",
       "      <td>2</td>\n",
       "      <td>1</td>\n",
       "      <td>0</td>\n",
       "      <td>Mailed check</td>\n",
       "      <td>59.9</td>\n",
       "      <td>542.40</td>\n",
       "      <td>No</td>\n",
       "      <td>9.1</td>\n",
       "    </tr>\n",
       "    <tr>\n",
       "      <th>2</th>\n",
       "      <td>0004-TLHLJ</td>\n",
       "      <td>Male</td>\n",
       "      <td>0</td>\n",
       "      <td>No</td>\n",
       "      <td>No</td>\n",
       "      <td>1</td>\n",
       "      <td>2</td>\n",
       "      <td>0</td>\n",
       "      <td>Electronic check</td>\n",
       "      <td>73.9</td>\n",
       "      <td>280.85</td>\n",
       "      <td>Yes</td>\n",
       "      <td>3.8</td>\n",
       "    </tr>\n",
       "    <tr>\n",
       "      <th>3</th>\n",
       "      <td>0011-IGKFF</td>\n",
       "      <td>Male</td>\n",
       "      <td>1</td>\n",
       "      <td>Yes</td>\n",
       "      <td>No</td>\n",
       "      <td>1</td>\n",
       "      <td>2</td>\n",
       "      <td>0</td>\n",
       "      <td>Electronic check</td>\n",
       "      <td>98.0</td>\n",
       "      <td>1237.85</td>\n",
       "      <td>Yes</td>\n",
       "      <td>12.6</td>\n",
       "    </tr>\n",
       "    <tr>\n",
       "      <th>4</th>\n",
       "      <td>0013-EXCHZ</td>\n",
       "      <td>Female</td>\n",
       "      <td>1</td>\n",
       "      <td>Yes</td>\n",
       "      <td>No</td>\n",
       "      <td>1</td>\n",
       "      <td>2</td>\n",
       "      <td>0</td>\n",
       "      <td>Mailed check</td>\n",
       "      <td>83.9</td>\n",
       "      <td>267.40</td>\n",
       "      <td>Yes</td>\n",
       "      <td>3.2</td>\n",
       "    </tr>\n",
       "  </tbody>\n",
       "</table>\n",
       "</div>"
      ],
      "text/plain": [
       "  customer_id  gender  is_senior_citizen partner dependents  phone_service  \\\n",
       "0  0002-ORFBO  Female                  0     Yes        Yes              1   \n",
       "1  0003-MKNFE    Male                  0      No         No              2   \n",
       "2  0004-TLHLJ    Male                  0      No         No              1   \n",
       "3  0011-IGKFF    Male                  1     Yes         No              1   \n",
       "4  0013-EXCHZ  Female                  1     Yes         No              1   \n",
       "\n",
       "   internet_service  contract_type      payment_type  monthly_charges  \\\n",
       "0                 1              1      Mailed check             65.6   \n",
       "1                 1              0      Mailed check             59.9   \n",
       "2                 2              0  Electronic check             73.9   \n",
       "3                 2              0  Electronic check             98.0   \n",
       "4                 2              0      Mailed check             83.9   \n",
       "\n",
       "   total_charges churn  tenure  \n",
       "0         593.30    No     9.0  \n",
       "1         542.40    No     9.1  \n",
       "2         280.85   Yes     3.8  \n",
       "3        1237.85   Yes    12.6  \n",
       "4         267.40   Yes     3.2  "
      ]
     },
     "execution_count": 33,
     "metadata": {},
     "output_type": "execute_result"
    }
   ],
   "source": [
    "telcom = pd.read_csv(\"spreadsheet.csv\")\n",
    "telco=telcom\n",
    "telcom.head()"
   ]
  },
  {
   "cell_type": "code",
   "execution_count": 3,
   "id": "faf6cd1b",
   "metadata": {},
   "outputs": [
    {
     "data": {
      "text/html": [
       "<div>\n",
       "<style scoped>\n",
       "    .dataframe tbody tr th:only-of-type {\n",
       "        vertical-align: middle;\n",
       "    }\n",
       "\n",
       "    .dataframe tbody tr th {\n",
       "        vertical-align: top;\n",
       "    }\n",
       "\n",
       "    .dataframe thead th {\n",
       "        text-align: right;\n",
       "    }\n",
       "</style>\n",
       "<table border=\"1\" class=\"dataframe\">\n",
       "  <thead>\n",
       "    <tr style=\"text-align: right;\">\n",
       "      <th></th>\n",
       "      <th>0</th>\n",
       "      <th>1</th>\n",
       "      <th>2</th>\n",
       "      <th>3</th>\n",
       "      <th>4</th>\n",
       "      <th>5</th>\n",
       "      <th>6</th>\n",
       "      <th>7</th>\n",
       "      <th>8</th>\n",
       "      <th>9</th>\n",
       "      <th>...</th>\n",
       "      <th>7039</th>\n",
       "      <th>7040</th>\n",
       "      <th>7041</th>\n",
       "      <th>7042</th>\n",
       "      <th>7043</th>\n",
       "      <th>7044</th>\n",
       "      <th>7045</th>\n",
       "      <th>7046</th>\n",
       "      <th>7047</th>\n",
       "      <th>7048</th>\n",
       "    </tr>\n",
       "  </thead>\n",
       "  <tbody>\n",
       "    <tr>\n",
       "      <th>customer_id</th>\n",
       "      <td>0002-ORFBO</td>\n",
       "      <td>0003-MKNFE</td>\n",
       "      <td>0004-TLHLJ</td>\n",
       "      <td>0011-IGKFF</td>\n",
       "      <td>0013-EXCHZ</td>\n",
       "      <td>0013-MHZWF</td>\n",
       "      <td>0013-SMEOE</td>\n",
       "      <td>0014-BMAQU</td>\n",
       "      <td>0015-UOCOJ</td>\n",
       "      <td>0016-QLJIS</td>\n",
       "      <td>...</td>\n",
       "      <td>9975-SKRNR</td>\n",
       "      <td>9978-HYCIN</td>\n",
       "      <td>9979-RGMZT</td>\n",
       "      <td>9985-MWVIX</td>\n",
       "      <td>9986-BONCE</td>\n",
       "      <td>9987-LUTYD</td>\n",
       "      <td>9992-RRAMN</td>\n",
       "      <td>9992-UJOEL</td>\n",
       "      <td>9993-LHIEB</td>\n",
       "      <td>9995-HOTOH</td>\n",
       "    </tr>\n",
       "    <tr>\n",
       "      <th>gender</th>\n",
       "      <td>Female</td>\n",
       "      <td>Male</td>\n",
       "      <td>Male</td>\n",
       "      <td>Male</td>\n",
       "      <td>Female</td>\n",
       "      <td>Female</td>\n",
       "      <td>Female</td>\n",
       "      <td>Male</td>\n",
       "      <td>Female</td>\n",
       "      <td>Female</td>\n",
       "      <td>...</td>\n",
       "      <td>Male</td>\n",
       "      <td>Male</td>\n",
       "      <td>Female</td>\n",
       "      <td>Female</td>\n",
       "      <td>Female</td>\n",
       "      <td>Female</td>\n",
       "      <td>Male</td>\n",
       "      <td>Male</td>\n",
       "      <td>Male</td>\n",
       "      <td>Male</td>\n",
       "    </tr>\n",
       "    <tr>\n",
       "      <th>is_senior_citizen</th>\n",
       "      <td>0</td>\n",
       "      <td>0</td>\n",
       "      <td>0</td>\n",
       "      <td>1</td>\n",
       "      <td>1</td>\n",
       "      <td>0</td>\n",
       "      <td>1</td>\n",
       "      <td>0</td>\n",
       "      <td>1</td>\n",
       "      <td>0</td>\n",
       "      <td>...</td>\n",
       "      <td>0</td>\n",
       "      <td>1</td>\n",
       "      <td>0</td>\n",
       "      <td>0</td>\n",
       "      <td>0</td>\n",
       "      <td>0</td>\n",
       "      <td>0</td>\n",
       "      <td>0</td>\n",
       "      <td>0</td>\n",
       "      <td>0</td>\n",
       "    </tr>\n",
       "    <tr>\n",
       "      <th>partner</th>\n",
       "      <td>Yes</td>\n",
       "      <td>No</td>\n",
       "      <td>No</td>\n",
       "      <td>Yes</td>\n",
       "      <td>Yes</td>\n",
       "      <td>No</td>\n",
       "      <td>Yes</td>\n",
       "      <td>Yes</td>\n",
       "      <td>No</td>\n",
       "      <td>Yes</td>\n",
       "      <td>...</td>\n",
       "      <td>No</td>\n",
       "      <td>Yes</td>\n",
       "      <td>No</td>\n",
       "      <td>No</td>\n",
       "      <td>No</td>\n",
       "      <td>No</td>\n",
       "      <td>Yes</td>\n",
       "      <td>No</td>\n",
       "      <td>Yes</td>\n",
       "      <td>Yes</td>\n",
       "    </tr>\n",
       "    <tr>\n",
       "      <th>dependents</th>\n",
       "      <td>Yes</td>\n",
       "      <td>No</td>\n",
       "      <td>No</td>\n",
       "      <td>No</td>\n",
       "      <td>No</td>\n",
       "      <td>Yes</td>\n",
       "      <td>No</td>\n",
       "      <td>No</td>\n",
       "      <td>No</td>\n",
       "      <td>Yes</td>\n",
       "      <td>...</td>\n",
       "      <td>No</td>\n",
       "      <td>Yes</td>\n",
       "      <td>No</td>\n",
       "      <td>No</td>\n",
       "      <td>No</td>\n",
       "      <td>No</td>\n",
       "      <td>No</td>\n",
       "      <td>No</td>\n",
       "      <td>Yes</td>\n",
       "      <td>Yes</td>\n",
       "    </tr>\n",
       "    <tr>\n",
       "      <th>phone_service</th>\n",
       "      <td>1</td>\n",
       "      <td>2</td>\n",
       "      <td>1</td>\n",
       "      <td>1</td>\n",
       "      <td>1</td>\n",
       "      <td>1</td>\n",
       "      <td>1</td>\n",
       "      <td>2</td>\n",
       "      <td>1</td>\n",
       "      <td>2</td>\n",
       "      <td>...</td>\n",
       "      <td>1</td>\n",
       "      <td>1</td>\n",
       "      <td>1</td>\n",
       "      <td>1</td>\n",
       "      <td>1</td>\n",
       "      <td>1</td>\n",
       "      <td>2</td>\n",
       "      <td>1</td>\n",
       "      <td>1</td>\n",
       "      <td>0</td>\n",
       "    </tr>\n",
       "    <tr>\n",
       "      <th>internet_service</th>\n",
       "      <td>1</td>\n",
       "      <td>1</td>\n",
       "      <td>2</td>\n",
       "      <td>2</td>\n",
       "      <td>2</td>\n",
       "      <td>1</td>\n",
       "      <td>2</td>\n",
       "      <td>2</td>\n",
       "      <td>1</td>\n",
       "      <td>1</td>\n",
       "      <td>...</td>\n",
       "      <td>0</td>\n",
       "      <td>2</td>\n",
       "      <td>2</td>\n",
       "      <td>2</td>\n",
       "      <td>0</td>\n",
       "      <td>1</td>\n",
       "      <td>2</td>\n",
       "      <td>1</td>\n",
       "      <td>1</td>\n",
       "      <td>1</td>\n",
       "    </tr>\n",
       "    <tr>\n",
       "      <th>contract_type</th>\n",
       "      <td>1</td>\n",
       "      <td>0</td>\n",
       "      <td>0</td>\n",
       "      <td>0</td>\n",
       "      <td>0</td>\n",
       "      <td>0</td>\n",
       "      <td>2</td>\n",
       "      <td>2</td>\n",
       "      <td>0</td>\n",
       "      <td>2</td>\n",
       "      <td>...</td>\n",
       "      <td>0</td>\n",
       "      <td>1</td>\n",
       "      <td>1</td>\n",
       "      <td>0</td>\n",
       "      <td>0</td>\n",
       "      <td>1</td>\n",
       "      <td>0</td>\n",
       "      <td>0</td>\n",
       "      <td>2</td>\n",
       "      <td>2</td>\n",
       "    </tr>\n",
       "    <tr>\n",
       "      <th>payment_type</th>\n",
       "      <td>Mailed check</td>\n",
       "      <td>Mailed check</td>\n",
       "      <td>Electronic check</td>\n",
       "      <td>Electronic check</td>\n",
       "      <td>Mailed check</td>\n",
       "      <td>Credit card (automatic)</td>\n",
       "      <td>Bank transfer (automatic)</td>\n",
       "      <td>Credit card (automatic)</td>\n",
       "      <td>Electronic check</td>\n",
       "      <td>Mailed check</td>\n",
       "      <td>...</td>\n",
       "      <td>Mailed check</td>\n",
       "      <td>Bank transfer (automatic)</td>\n",
       "      <td>Mailed check</td>\n",
       "      <td>Mailed check</td>\n",
       "      <td>Bank transfer (automatic)</td>\n",
       "      <td>Mailed check</td>\n",
       "      <td>Electronic check</td>\n",
       "      <td>Mailed check</td>\n",
       "      <td>Mailed check</td>\n",
       "      <td>Electronic check</td>\n",
       "    </tr>\n",
       "    <tr>\n",
       "      <th>monthly_charges</th>\n",
       "      <td>65.6</td>\n",
       "      <td>59.9</td>\n",
       "      <td>73.9</td>\n",
       "      <td>98.0</td>\n",
       "      <td>83.9</td>\n",
       "      <td>69.4</td>\n",
       "      <td>109.7</td>\n",
       "      <td>84.65</td>\n",
       "      <td>48.2</td>\n",
       "      <td>90.45</td>\n",
       "      <td>...</td>\n",
       "      <td>18.9</td>\n",
       "      <td>84.95</td>\n",
       "      <td>94.05</td>\n",
       "      <td>70.15</td>\n",
       "      <td>20.95</td>\n",
       "      <td>55.15</td>\n",
       "      <td>85.1</td>\n",
       "      <td>50.3</td>\n",
       "      <td>67.85</td>\n",
       "      <td>59.0</td>\n",
       "    </tr>\n",
       "    <tr>\n",
       "      <th>total_charges</th>\n",
       "      <td>593.3</td>\n",
       "      <td>542.4</td>\n",
       "      <td>280.85</td>\n",
       "      <td>1237.85</td>\n",
       "      <td>267.4</td>\n",
       "      <td>571.45</td>\n",
       "      <td>7904.25</td>\n",
       "      <td>5377.8</td>\n",
       "      <td>340.35</td>\n",
       "      <td>5957.9</td>\n",
       "      <td>...</td>\n",
       "      <td>18.9</td>\n",
       "      <td>4018.05</td>\n",
       "      <td>633.45</td>\n",
       "      <td>70.15</td>\n",
       "      <td>85.5</td>\n",
       "      <td>742.9</td>\n",
       "      <td>1873.7</td>\n",
       "      <td>92.75</td>\n",
       "      <td>4627.65</td>\n",
       "      <td>3707.6</td>\n",
       "    </tr>\n",
       "    <tr>\n",
       "      <th>churn</th>\n",
       "      <td>No</td>\n",
       "      <td>No</td>\n",
       "      <td>Yes</td>\n",
       "      <td>Yes</td>\n",
       "      <td>Yes</td>\n",
       "      <td>No</td>\n",
       "      <td>No</td>\n",
       "      <td>No</td>\n",
       "      <td>No</td>\n",
       "      <td>No</td>\n",
       "      <td>...</td>\n",
       "      <td>No</td>\n",
       "      <td>No</td>\n",
       "      <td>No</td>\n",
       "      <td>Yes</td>\n",
       "      <td>Yes</td>\n",
       "      <td>No</td>\n",
       "      <td>Yes</td>\n",
       "      <td>No</td>\n",
       "      <td>No</td>\n",
       "      <td>No</td>\n",
       "    </tr>\n",
       "    <tr>\n",
       "      <th>tenure</th>\n",
       "      <td>9.0</td>\n",
       "      <td>9.1</td>\n",
       "      <td>3.8</td>\n",
       "      <td>12.6</td>\n",
       "      <td>3.2</td>\n",
       "      <td>8.2</td>\n",
       "      <td>72.1</td>\n",
       "      <td>63.5</td>\n",
       "      <td>7.1</td>\n",
       "      <td>65.9</td>\n",
       "      <td>...</td>\n",
       "      <td>1.0</td>\n",
       "      <td>47.3</td>\n",
       "      <td>6.7</td>\n",
       "      <td>1.0</td>\n",
       "      <td>4.1</td>\n",
       "      <td>13.5</td>\n",
       "      <td>22.0</td>\n",
       "      <td>1.8</td>\n",
       "      <td>68.2</td>\n",
       "      <td>62.8</td>\n",
       "    </tr>\n",
       "  </tbody>\n",
       "</table>\n",
       "<p>13 rows × 7049 columns</p>\n",
       "</div>"
      ],
      "text/plain": [
       "                           0             1                 2     \\\n",
       "customer_id          0002-ORFBO    0003-MKNFE        0004-TLHLJ   \n",
       "gender                   Female          Male              Male   \n",
       "is_senior_citizen             0             0                 0   \n",
       "partner                     Yes            No                No   \n",
       "dependents                  Yes            No                No   \n",
       "phone_service                 1             2                 1   \n",
       "internet_service              1             1                 2   \n",
       "contract_type                 1             0                 0   \n",
       "payment_type       Mailed check  Mailed check  Electronic check   \n",
       "monthly_charges            65.6          59.9              73.9   \n",
       "total_charges             593.3         542.4            280.85   \n",
       "churn                        No            No               Yes   \n",
       "tenure                      9.0           9.1               3.8   \n",
       "\n",
       "                               3             4                        5     \\\n",
       "customer_id              0011-IGKFF    0013-EXCHZ               0013-MHZWF   \n",
       "gender                         Male        Female                   Female   \n",
       "is_senior_citizen                 1             1                        0   \n",
       "partner                         Yes           Yes                       No   \n",
       "dependents                       No            No                      Yes   \n",
       "phone_service                     1             1                        1   \n",
       "internet_service                  2             2                        1   \n",
       "contract_type                     0             0                        0   \n",
       "payment_type       Electronic check  Mailed check  Credit card (automatic)   \n",
       "monthly_charges                98.0          83.9                     69.4   \n",
       "total_charges               1237.85         267.4                   571.45   \n",
       "churn                           Yes           Yes                       No   \n",
       "tenure                         12.6           3.2                      8.2   \n",
       "\n",
       "                                        6                        7     \\\n",
       "customer_id                       0013-SMEOE               0014-BMAQU   \n",
       "gender                                Female                     Male   \n",
       "is_senior_citizen                          1                        0   \n",
       "partner                                  Yes                      Yes   \n",
       "dependents                                No                       No   \n",
       "phone_service                              1                        2   \n",
       "internet_service                           2                        2   \n",
       "contract_type                              2                        2   \n",
       "payment_type       Bank transfer (automatic)  Credit card (automatic)   \n",
       "monthly_charges                        109.7                    84.65   \n",
       "total_charges                        7904.25                   5377.8   \n",
       "churn                                     No                       No   \n",
       "tenure                                  72.1                     63.5   \n",
       "\n",
       "                               8             9     ...          7039  \\\n",
       "customer_id              0015-UOCOJ    0016-QLJIS  ...    9975-SKRNR   \n",
       "gender                       Female        Female  ...          Male   \n",
       "is_senior_citizen                 1             0  ...             0   \n",
       "partner                          No           Yes  ...            No   \n",
       "dependents                       No           Yes  ...            No   \n",
       "phone_service                     1             2  ...             1   \n",
       "internet_service                  1             1  ...             0   \n",
       "contract_type                     0             2  ...             0   \n",
       "payment_type       Electronic check  Mailed check  ...  Mailed check   \n",
       "monthly_charges                48.2         90.45  ...          18.9   \n",
       "total_charges                340.35        5957.9  ...          18.9   \n",
       "churn                            No            No  ...            No   \n",
       "tenure                          7.1          65.9  ...           1.0   \n",
       "\n",
       "                                        7040          7041          7042  \\\n",
       "customer_id                       9978-HYCIN    9979-RGMZT    9985-MWVIX   \n",
       "gender                                  Male        Female        Female   \n",
       "is_senior_citizen                          1             0             0   \n",
       "partner                                  Yes            No            No   \n",
       "dependents                               Yes            No            No   \n",
       "phone_service                              1             1             1   \n",
       "internet_service                           2             2             2   \n",
       "contract_type                              1             1             0   \n",
       "payment_type       Bank transfer (automatic)  Mailed check  Mailed check   \n",
       "monthly_charges                        84.95         94.05         70.15   \n",
       "total_charges                        4018.05        633.45         70.15   \n",
       "churn                                     No            No           Yes   \n",
       "tenure                                  47.3           6.7           1.0   \n",
       "\n",
       "                                        7043          7044              7045  \\\n",
       "customer_id                       9986-BONCE    9987-LUTYD        9992-RRAMN   \n",
       "gender                                Female        Female              Male   \n",
       "is_senior_citizen                          0             0                 0   \n",
       "partner                                   No            No               Yes   \n",
       "dependents                                No            No                No   \n",
       "phone_service                              1             1                 2   \n",
       "internet_service                           0             1                 2   \n",
       "contract_type                              0             1                 0   \n",
       "payment_type       Bank transfer (automatic)  Mailed check  Electronic check   \n",
       "monthly_charges                        20.95         55.15              85.1   \n",
       "total_charges                           85.5         742.9            1873.7   \n",
       "churn                                    Yes            No               Yes   \n",
       "tenure                                   4.1          13.5              22.0   \n",
       "\n",
       "                           7046          7047              7048  \n",
       "customer_id          9992-UJOEL    9993-LHIEB        9995-HOTOH  \n",
       "gender                     Male          Male              Male  \n",
       "is_senior_citizen             0             0                 0  \n",
       "partner                      No           Yes               Yes  \n",
       "dependents                   No           Yes               Yes  \n",
       "phone_service                 1             1                 0  \n",
       "internet_service              1             1                 1  \n",
       "contract_type                 0             2                 2  \n",
       "payment_type       Mailed check  Mailed check  Electronic check  \n",
       "monthly_charges            50.3         67.85              59.0  \n",
       "total_charges             92.75       4627.65            3707.6  \n",
       "churn                        No            No                No  \n",
       "tenure                      1.8          68.2              62.8  \n",
       "\n",
       "[13 rows x 7049 columns]"
      ]
     },
     "execution_count": 3,
     "metadata": {},
     "output_type": "execute_result"
    }
   ],
   "source": [
    "telcom.T"
   ]
  },
  {
   "cell_type": "code",
   "execution_count": 4,
   "id": "5460a417",
   "metadata": {},
   "outputs": [],
   "source": [
    "telcom['rounded_tenure']= telcom['tenure'].round(decimals = 0).astype(int)"
   ]
  },
  {
   "cell_type": "code",
   "execution_count": 5,
   "id": "c03f14b6",
   "metadata": {},
   "outputs": [],
   "source": [
    "telcom['has_phone'] = np.where(telcom.phone_service == 0 , False, True)"
   ]
  },
  {
   "cell_type": "code",
   "execution_count": 6,
   "id": "3d6f626d",
   "metadata": {},
   "outputs": [],
   "source": [
    "telcom['has_internet'] = np.where(telcom.internet_service == 0 , False , True)"
   ]
  },
  {
   "cell_type": "code",
   "execution_count": 7,
   "id": "ea942963",
   "metadata": {},
   "outputs": [],
   "source": [
    "telcom['internet_phone'] =(telcom['has_phone'])& (telcom['has_internet'])"
   ]
  },
  {
   "cell_type": "code",
   "execution_count": 8,
   "id": "ebaf2301",
   "metadata": {},
   "outputs": [],
   "source": [
    "telcom['female_dependents'] = (telcom.gender == 'Female') & (telcom.dependents == 'Yes')"
   ]
  },
  {
   "cell_type": "code",
   "execution_count": 9,
   "id": "03e6bea1",
   "metadata": {},
   "outputs": [],
   "source": [
    "telcom['male_dependents'] = (telcom.gender == 'Male') & (telcom.dependents == 'Yes')"
   ]
  },
  {
   "cell_type": "code",
   "execution_count": 22,
   "id": "284f6354",
   "metadata": {},
   "outputs": [
    {
     "data": {
      "text/html": [
       "<div>\n",
       "<style scoped>\n",
       "    .dataframe tbody tr th:only-of-type {\n",
       "        vertical-align: middle;\n",
       "    }\n",
       "\n",
       "    .dataframe tbody tr th {\n",
       "        vertical-align: top;\n",
       "    }\n",
       "\n",
       "    .dataframe thead th {\n",
       "        text-align: right;\n",
       "    }\n",
       "</style>\n",
       "<table border=\"1\" class=\"dataframe\">\n",
       "  <thead>\n",
       "    <tr style=\"text-align: right;\">\n",
       "      <th></th>\n",
       "      <th>0</th>\n",
       "      <th>1</th>\n",
       "      <th>2</th>\n",
       "      <th>3</th>\n",
       "      <th>4</th>\n",
       "      <th>5</th>\n",
       "      <th>6</th>\n",
       "      <th>7</th>\n",
       "      <th>8</th>\n",
       "      <th>9</th>\n",
       "      <th>...</th>\n",
       "      <th>7039</th>\n",
       "      <th>7040</th>\n",
       "      <th>7041</th>\n",
       "      <th>7042</th>\n",
       "      <th>7043</th>\n",
       "      <th>7044</th>\n",
       "      <th>7045</th>\n",
       "      <th>7046</th>\n",
       "      <th>7047</th>\n",
       "      <th>7048</th>\n",
       "    </tr>\n",
       "  </thead>\n",
       "  <tbody>\n",
       "    <tr>\n",
       "      <th>customer_id</th>\n",
       "      <td>0002-ORFBO</td>\n",
       "      <td>0003-MKNFE</td>\n",
       "      <td>0004-TLHLJ</td>\n",
       "      <td>0011-IGKFF</td>\n",
       "      <td>0013-EXCHZ</td>\n",
       "      <td>0013-MHZWF</td>\n",
       "      <td>0013-SMEOE</td>\n",
       "      <td>0014-BMAQU</td>\n",
       "      <td>0015-UOCOJ</td>\n",
       "      <td>0016-QLJIS</td>\n",
       "      <td>...</td>\n",
       "      <td>9975-SKRNR</td>\n",
       "      <td>9978-HYCIN</td>\n",
       "      <td>9979-RGMZT</td>\n",
       "      <td>9985-MWVIX</td>\n",
       "      <td>9986-BONCE</td>\n",
       "      <td>9987-LUTYD</td>\n",
       "      <td>9992-RRAMN</td>\n",
       "      <td>9992-UJOEL</td>\n",
       "      <td>9993-LHIEB</td>\n",
       "      <td>9995-HOTOH</td>\n",
       "    </tr>\n",
       "    <tr>\n",
       "      <th>gender</th>\n",
       "      <td>Female</td>\n",
       "      <td>Male</td>\n",
       "      <td>Male</td>\n",
       "      <td>Male</td>\n",
       "      <td>Female</td>\n",
       "      <td>Female</td>\n",
       "      <td>Female</td>\n",
       "      <td>Male</td>\n",
       "      <td>Female</td>\n",
       "      <td>Female</td>\n",
       "      <td>...</td>\n",
       "      <td>Male</td>\n",
       "      <td>Male</td>\n",
       "      <td>Female</td>\n",
       "      <td>Female</td>\n",
       "      <td>Female</td>\n",
       "      <td>Female</td>\n",
       "      <td>Male</td>\n",
       "      <td>Male</td>\n",
       "      <td>Male</td>\n",
       "      <td>Male</td>\n",
       "    </tr>\n",
       "    <tr>\n",
       "      <th>is_senior_citizen</th>\n",
       "      <td>0</td>\n",
       "      <td>0</td>\n",
       "      <td>0</td>\n",
       "      <td>1</td>\n",
       "      <td>1</td>\n",
       "      <td>0</td>\n",
       "      <td>1</td>\n",
       "      <td>0</td>\n",
       "      <td>1</td>\n",
       "      <td>0</td>\n",
       "      <td>...</td>\n",
       "      <td>0</td>\n",
       "      <td>1</td>\n",
       "      <td>0</td>\n",
       "      <td>0</td>\n",
       "      <td>0</td>\n",
       "      <td>0</td>\n",
       "      <td>0</td>\n",
       "      <td>0</td>\n",
       "      <td>0</td>\n",
       "      <td>0</td>\n",
       "    </tr>\n",
       "    <tr>\n",
       "      <th>partner</th>\n",
       "      <td>Yes</td>\n",
       "      <td>No</td>\n",
       "      <td>No</td>\n",
       "      <td>Yes</td>\n",
       "      <td>Yes</td>\n",
       "      <td>No</td>\n",
       "      <td>Yes</td>\n",
       "      <td>Yes</td>\n",
       "      <td>No</td>\n",
       "      <td>Yes</td>\n",
       "      <td>...</td>\n",
       "      <td>No</td>\n",
       "      <td>Yes</td>\n",
       "      <td>No</td>\n",
       "      <td>No</td>\n",
       "      <td>No</td>\n",
       "      <td>No</td>\n",
       "      <td>Yes</td>\n",
       "      <td>No</td>\n",
       "      <td>Yes</td>\n",
       "      <td>Yes</td>\n",
       "    </tr>\n",
       "    <tr>\n",
       "      <th>dependents</th>\n",
       "      <td>Yes</td>\n",
       "      <td>No</td>\n",
       "      <td>No</td>\n",
       "      <td>No</td>\n",
       "      <td>No</td>\n",
       "      <td>Yes</td>\n",
       "      <td>No</td>\n",
       "      <td>No</td>\n",
       "      <td>No</td>\n",
       "      <td>Yes</td>\n",
       "      <td>...</td>\n",
       "      <td>No</td>\n",
       "      <td>Yes</td>\n",
       "      <td>No</td>\n",
       "      <td>No</td>\n",
       "      <td>No</td>\n",
       "      <td>No</td>\n",
       "      <td>No</td>\n",
       "      <td>No</td>\n",
       "      <td>Yes</td>\n",
       "      <td>Yes</td>\n",
       "    </tr>\n",
       "    <tr>\n",
       "      <th>phone_service</th>\n",
       "      <td>1</td>\n",
       "      <td>2</td>\n",
       "      <td>1</td>\n",
       "      <td>1</td>\n",
       "      <td>1</td>\n",
       "      <td>1</td>\n",
       "      <td>1</td>\n",
       "      <td>2</td>\n",
       "      <td>1</td>\n",
       "      <td>2</td>\n",
       "      <td>...</td>\n",
       "      <td>1</td>\n",
       "      <td>1</td>\n",
       "      <td>1</td>\n",
       "      <td>1</td>\n",
       "      <td>1</td>\n",
       "      <td>1</td>\n",
       "      <td>2</td>\n",
       "      <td>1</td>\n",
       "      <td>1</td>\n",
       "      <td>0</td>\n",
       "    </tr>\n",
       "    <tr>\n",
       "      <th>internet_service</th>\n",
       "      <td>1</td>\n",
       "      <td>1</td>\n",
       "      <td>2</td>\n",
       "      <td>2</td>\n",
       "      <td>2</td>\n",
       "      <td>1</td>\n",
       "      <td>2</td>\n",
       "      <td>2</td>\n",
       "      <td>1</td>\n",
       "      <td>1</td>\n",
       "      <td>...</td>\n",
       "      <td>0</td>\n",
       "      <td>2</td>\n",
       "      <td>2</td>\n",
       "      <td>2</td>\n",
       "      <td>0</td>\n",
       "      <td>1</td>\n",
       "      <td>2</td>\n",
       "      <td>1</td>\n",
       "      <td>1</td>\n",
       "      <td>1</td>\n",
       "    </tr>\n",
       "    <tr>\n",
       "      <th>contract_type</th>\n",
       "      <td>1</td>\n",
       "      <td>0</td>\n",
       "      <td>0</td>\n",
       "      <td>0</td>\n",
       "      <td>0</td>\n",
       "      <td>0</td>\n",
       "      <td>2</td>\n",
       "      <td>2</td>\n",
       "      <td>0</td>\n",
       "      <td>2</td>\n",
       "      <td>...</td>\n",
       "      <td>0</td>\n",
       "      <td>1</td>\n",
       "      <td>1</td>\n",
       "      <td>0</td>\n",
       "      <td>0</td>\n",
       "      <td>1</td>\n",
       "      <td>0</td>\n",
       "      <td>0</td>\n",
       "      <td>2</td>\n",
       "      <td>2</td>\n",
       "    </tr>\n",
       "    <tr>\n",
       "      <th>payment_type</th>\n",
       "      <td>Mailed check</td>\n",
       "      <td>Mailed check</td>\n",
       "      <td>Electronic check</td>\n",
       "      <td>Electronic check</td>\n",
       "      <td>Mailed check</td>\n",
       "      <td>Credit card (automatic)</td>\n",
       "      <td>Bank transfer (automatic)</td>\n",
       "      <td>Credit card (automatic)</td>\n",
       "      <td>Electronic check</td>\n",
       "      <td>Mailed check</td>\n",
       "      <td>...</td>\n",
       "      <td>Mailed check</td>\n",
       "      <td>Bank transfer (automatic)</td>\n",
       "      <td>Mailed check</td>\n",
       "      <td>Mailed check</td>\n",
       "      <td>Bank transfer (automatic)</td>\n",
       "      <td>Mailed check</td>\n",
       "      <td>Electronic check</td>\n",
       "      <td>Mailed check</td>\n",
       "      <td>Mailed check</td>\n",
       "      <td>Electronic check</td>\n",
       "    </tr>\n",
       "    <tr>\n",
       "      <th>monthly_charges</th>\n",
       "      <td>65.6</td>\n",
       "      <td>59.9</td>\n",
       "      <td>73.9</td>\n",
       "      <td>98.0</td>\n",
       "      <td>83.9</td>\n",
       "      <td>69.4</td>\n",
       "      <td>109.7</td>\n",
       "      <td>84.65</td>\n",
       "      <td>48.2</td>\n",
       "      <td>90.45</td>\n",
       "      <td>...</td>\n",
       "      <td>18.9</td>\n",
       "      <td>84.95</td>\n",
       "      <td>94.05</td>\n",
       "      <td>70.15</td>\n",
       "      <td>20.95</td>\n",
       "      <td>55.15</td>\n",
       "      <td>85.1</td>\n",
       "      <td>50.3</td>\n",
       "      <td>67.85</td>\n",
       "      <td>59.0</td>\n",
       "    </tr>\n",
       "    <tr>\n",
       "      <th>total_charges</th>\n",
       "      <td>593.3</td>\n",
       "      <td>542.4</td>\n",
       "      <td>280.85</td>\n",
       "      <td>1237.85</td>\n",
       "      <td>267.4</td>\n",
       "      <td>571.45</td>\n",
       "      <td>7904.25</td>\n",
       "      <td>5377.8</td>\n",
       "      <td>340.35</td>\n",
       "      <td>5957.9</td>\n",
       "      <td>...</td>\n",
       "      <td>18.9</td>\n",
       "      <td>4018.05</td>\n",
       "      <td>633.45</td>\n",
       "      <td>70.15</td>\n",
       "      <td>85.5</td>\n",
       "      <td>742.9</td>\n",
       "      <td>1873.7</td>\n",
       "      <td>92.75</td>\n",
       "      <td>4627.65</td>\n",
       "      <td>3707.6</td>\n",
       "    </tr>\n",
       "    <tr>\n",
       "      <th>churn</th>\n",
       "      <td>No</td>\n",
       "      <td>No</td>\n",
       "      <td>Yes</td>\n",
       "      <td>Yes</td>\n",
       "      <td>Yes</td>\n",
       "      <td>No</td>\n",
       "      <td>No</td>\n",
       "      <td>No</td>\n",
       "      <td>No</td>\n",
       "      <td>No</td>\n",
       "      <td>...</td>\n",
       "      <td>No</td>\n",
       "      <td>No</td>\n",
       "      <td>No</td>\n",
       "      <td>Yes</td>\n",
       "      <td>Yes</td>\n",
       "      <td>No</td>\n",
       "      <td>Yes</td>\n",
       "      <td>No</td>\n",
       "      <td>No</td>\n",
       "      <td>No</td>\n",
       "    </tr>\n",
       "    <tr>\n",
       "      <th>tenure</th>\n",
       "      <td>9.0</td>\n",
       "      <td>9.1</td>\n",
       "      <td>3.8</td>\n",
       "      <td>12.6</td>\n",
       "      <td>3.2</td>\n",
       "      <td>8.2</td>\n",
       "      <td>72.1</td>\n",
       "      <td>63.5</td>\n",
       "      <td>7.1</td>\n",
       "      <td>65.9</td>\n",
       "      <td>...</td>\n",
       "      <td>1.0</td>\n",
       "      <td>47.3</td>\n",
       "      <td>6.7</td>\n",
       "      <td>1.0</td>\n",
       "      <td>4.1</td>\n",
       "      <td>13.5</td>\n",
       "      <td>22.0</td>\n",
       "      <td>1.8</td>\n",
       "      <td>68.2</td>\n",
       "      <td>62.8</td>\n",
       "    </tr>\n",
       "    <tr>\n",
       "      <th>rounded_tenure</th>\n",
       "      <td>9</td>\n",
       "      <td>9</td>\n",
       "      <td>4</td>\n",
       "      <td>13</td>\n",
       "      <td>3</td>\n",
       "      <td>8</td>\n",
       "      <td>72</td>\n",
       "      <td>64</td>\n",
       "      <td>7</td>\n",
       "      <td>66</td>\n",
       "      <td>...</td>\n",
       "      <td>1</td>\n",
       "      <td>47</td>\n",
       "      <td>7</td>\n",
       "      <td>1</td>\n",
       "      <td>4</td>\n",
       "      <td>14</td>\n",
       "      <td>22</td>\n",
       "      <td>2</td>\n",
       "      <td>68</td>\n",
       "      <td>63</td>\n",
       "    </tr>\n",
       "    <tr>\n",
       "      <th>has_phone</th>\n",
       "      <td>True</td>\n",
       "      <td>True</td>\n",
       "      <td>True</td>\n",
       "      <td>True</td>\n",
       "      <td>True</td>\n",
       "      <td>True</td>\n",
       "      <td>True</td>\n",
       "      <td>True</td>\n",
       "      <td>True</td>\n",
       "      <td>True</td>\n",
       "      <td>...</td>\n",
       "      <td>True</td>\n",
       "      <td>True</td>\n",
       "      <td>True</td>\n",
       "      <td>True</td>\n",
       "      <td>True</td>\n",
       "      <td>True</td>\n",
       "      <td>True</td>\n",
       "      <td>True</td>\n",
       "      <td>True</td>\n",
       "      <td>False</td>\n",
       "    </tr>\n",
       "    <tr>\n",
       "      <th>has_internet</th>\n",
       "      <td>True</td>\n",
       "      <td>True</td>\n",
       "      <td>True</td>\n",
       "      <td>True</td>\n",
       "      <td>True</td>\n",
       "      <td>True</td>\n",
       "      <td>True</td>\n",
       "      <td>True</td>\n",
       "      <td>True</td>\n",
       "      <td>True</td>\n",
       "      <td>...</td>\n",
       "      <td>False</td>\n",
       "      <td>True</td>\n",
       "      <td>True</td>\n",
       "      <td>True</td>\n",
       "      <td>False</td>\n",
       "      <td>True</td>\n",
       "      <td>True</td>\n",
       "      <td>True</td>\n",
       "      <td>True</td>\n",
       "      <td>True</td>\n",
       "    </tr>\n",
       "    <tr>\n",
       "      <th>internet_phone</th>\n",
       "      <td>True</td>\n",
       "      <td>True</td>\n",
       "      <td>True</td>\n",
       "      <td>True</td>\n",
       "      <td>True</td>\n",
       "      <td>True</td>\n",
       "      <td>True</td>\n",
       "      <td>True</td>\n",
       "      <td>True</td>\n",
       "      <td>True</td>\n",
       "      <td>...</td>\n",
       "      <td>False</td>\n",
       "      <td>True</td>\n",
       "      <td>True</td>\n",
       "      <td>True</td>\n",
       "      <td>False</td>\n",
       "      <td>True</td>\n",
       "      <td>True</td>\n",
       "      <td>True</td>\n",
       "      <td>True</td>\n",
       "      <td>False</td>\n",
       "    </tr>\n",
       "    <tr>\n",
       "      <th>female_dependents</th>\n",
       "      <td>True</td>\n",
       "      <td>False</td>\n",
       "      <td>False</td>\n",
       "      <td>False</td>\n",
       "      <td>False</td>\n",
       "      <td>True</td>\n",
       "      <td>False</td>\n",
       "      <td>False</td>\n",
       "      <td>False</td>\n",
       "      <td>True</td>\n",
       "      <td>...</td>\n",
       "      <td>False</td>\n",
       "      <td>False</td>\n",
       "      <td>False</td>\n",
       "      <td>False</td>\n",
       "      <td>False</td>\n",
       "      <td>False</td>\n",
       "      <td>False</td>\n",
       "      <td>False</td>\n",
       "      <td>False</td>\n",
       "      <td>False</td>\n",
       "    </tr>\n",
       "    <tr>\n",
       "      <th>male_dependents</th>\n",
       "      <td>False</td>\n",
       "      <td>False</td>\n",
       "      <td>False</td>\n",
       "      <td>False</td>\n",
       "      <td>False</td>\n",
       "      <td>False</td>\n",
       "      <td>False</td>\n",
       "      <td>False</td>\n",
       "      <td>False</td>\n",
       "      <td>False</td>\n",
       "      <td>...</td>\n",
       "      <td>False</td>\n",
       "      <td>True</td>\n",
       "      <td>False</td>\n",
       "      <td>False</td>\n",
       "      <td>False</td>\n",
       "      <td>False</td>\n",
       "      <td>False</td>\n",
       "      <td>False</td>\n",
       "      <td>True</td>\n",
       "      <td>True</td>\n",
       "    </tr>\n",
       "  </tbody>\n",
       "</table>\n",
       "<p>19 rows × 7049 columns</p>\n",
       "</div>"
      ],
      "text/plain": [
       "                           0             1                 2     \\\n",
       "customer_id          0002-ORFBO    0003-MKNFE        0004-TLHLJ   \n",
       "gender                   Female          Male              Male   \n",
       "is_senior_citizen             0             0                 0   \n",
       "partner                     Yes            No                No   \n",
       "dependents                  Yes            No                No   \n",
       "phone_service                 1             2                 1   \n",
       "internet_service              1             1                 2   \n",
       "contract_type                 1             0                 0   \n",
       "payment_type       Mailed check  Mailed check  Electronic check   \n",
       "monthly_charges            65.6          59.9              73.9   \n",
       "total_charges             593.3         542.4            280.85   \n",
       "churn                        No            No               Yes   \n",
       "tenure                      9.0           9.1               3.8   \n",
       "rounded_tenure                9             9                 4   \n",
       "has_phone                  True          True              True   \n",
       "has_internet               True          True              True   \n",
       "internet_phone             True          True              True   \n",
       "female_dependents          True         False             False   \n",
       "male_dependents           False         False             False   \n",
       "\n",
       "                               3             4                        5     \\\n",
       "customer_id              0011-IGKFF    0013-EXCHZ               0013-MHZWF   \n",
       "gender                         Male        Female                   Female   \n",
       "is_senior_citizen                 1             1                        0   \n",
       "partner                         Yes           Yes                       No   \n",
       "dependents                       No            No                      Yes   \n",
       "phone_service                     1             1                        1   \n",
       "internet_service                  2             2                        1   \n",
       "contract_type                     0             0                        0   \n",
       "payment_type       Electronic check  Mailed check  Credit card (automatic)   \n",
       "monthly_charges                98.0          83.9                     69.4   \n",
       "total_charges               1237.85         267.4                   571.45   \n",
       "churn                           Yes           Yes                       No   \n",
       "tenure                         12.6           3.2                      8.2   \n",
       "rounded_tenure                   13             3                        8   \n",
       "has_phone                      True          True                     True   \n",
       "has_internet                   True          True                     True   \n",
       "internet_phone                 True          True                     True   \n",
       "female_dependents             False         False                     True   \n",
       "male_dependents               False         False                    False   \n",
       "\n",
       "                                        6                        7     \\\n",
       "customer_id                       0013-SMEOE               0014-BMAQU   \n",
       "gender                                Female                     Male   \n",
       "is_senior_citizen                          1                        0   \n",
       "partner                                  Yes                      Yes   \n",
       "dependents                                No                       No   \n",
       "phone_service                              1                        2   \n",
       "internet_service                           2                        2   \n",
       "contract_type                              2                        2   \n",
       "payment_type       Bank transfer (automatic)  Credit card (automatic)   \n",
       "monthly_charges                        109.7                    84.65   \n",
       "total_charges                        7904.25                   5377.8   \n",
       "churn                                     No                       No   \n",
       "tenure                                  72.1                     63.5   \n",
       "rounded_tenure                            72                       64   \n",
       "has_phone                               True                     True   \n",
       "has_internet                            True                     True   \n",
       "internet_phone                          True                     True   \n",
       "female_dependents                      False                    False   \n",
       "male_dependents                        False                    False   \n",
       "\n",
       "                               8             9     ...          7039  \\\n",
       "customer_id              0015-UOCOJ    0016-QLJIS  ...    9975-SKRNR   \n",
       "gender                       Female        Female  ...          Male   \n",
       "is_senior_citizen                 1             0  ...             0   \n",
       "partner                          No           Yes  ...            No   \n",
       "dependents                       No           Yes  ...            No   \n",
       "phone_service                     1             2  ...             1   \n",
       "internet_service                  1             1  ...             0   \n",
       "contract_type                     0             2  ...             0   \n",
       "payment_type       Electronic check  Mailed check  ...  Mailed check   \n",
       "monthly_charges                48.2         90.45  ...          18.9   \n",
       "total_charges                340.35        5957.9  ...          18.9   \n",
       "churn                            No            No  ...            No   \n",
       "tenure                          7.1          65.9  ...           1.0   \n",
       "rounded_tenure                    7            66  ...             1   \n",
       "has_phone                      True          True  ...          True   \n",
       "has_internet                   True          True  ...         False   \n",
       "internet_phone                 True          True  ...         False   \n",
       "female_dependents             False          True  ...         False   \n",
       "male_dependents               False         False  ...         False   \n",
       "\n",
       "                                        7040          7041          7042  \\\n",
       "customer_id                       9978-HYCIN    9979-RGMZT    9985-MWVIX   \n",
       "gender                                  Male        Female        Female   \n",
       "is_senior_citizen                          1             0             0   \n",
       "partner                                  Yes            No            No   \n",
       "dependents                               Yes            No            No   \n",
       "phone_service                              1             1             1   \n",
       "internet_service                           2             2             2   \n",
       "contract_type                              1             1             0   \n",
       "payment_type       Bank transfer (automatic)  Mailed check  Mailed check   \n",
       "monthly_charges                        84.95         94.05         70.15   \n",
       "total_charges                        4018.05        633.45         70.15   \n",
       "churn                                     No            No           Yes   \n",
       "tenure                                  47.3           6.7           1.0   \n",
       "rounded_tenure                            47             7             1   \n",
       "has_phone                               True          True          True   \n",
       "has_internet                            True          True          True   \n",
       "internet_phone                          True          True          True   \n",
       "female_dependents                      False         False         False   \n",
       "male_dependents                         True         False         False   \n",
       "\n",
       "                                        7043          7044              7045  \\\n",
       "customer_id                       9986-BONCE    9987-LUTYD        9992-RRAMN   \n",
       "gender                                Female        Female              Male   \n",
       "is_senior_citizen                          0             0                 0   \n",
       "partner                                   No            No               Yes   \n",
       "dependents                                No            No                No   \n",
       "phone_service                              1             1                 2   \n",
       "internet_service                           0             1                 2   \n",
       "contract_type                              0             1                 0   \n",
       "payment_type       Bank transfer (automatic)  Mailed check  Electronic check   \n",
       "monthly_charges                        20.95         55.15              85.1   \n",
       "total_charges                           85.5         742.9            1873.7   \n",
       "churn                                    Yes            No               Yes   \n",
       "tenure                                   4.1          13.5              22.0   \n",
       "rounded_tenure                             4            14                22   \n",
       "has_phone                               True          True              True   \n",
       "has_internet                           False          True              True   \n",
       "internet_phone                         False          True              True   \n",
       "female_dependents                      False         False             False   \n",
       "male_dependents                        False         False             False   \n",
       "\n",
       "                           7046          7047              7048  \n",
       "customer_id          9992-UJOEL    9993-LHIEB        9995-HOTOH  \n",
       "gender                     Male          Male              Male  \n",
       "is_senior_citizen             0             0                 0  \n",
       "partner                      No           Yes               Yes  \n",
       "dependents                   No           Yes               Yes  \n",
       "phone_service                 1             1                 0  \n",
       "internet_service              1             1                 1  \n",
       "contract_type                 0             2                 2  \n",
       "payment_type       Mailed check  Mailed check  Electronic check  \n",
       "monthly_charges            50.3         67.85              59.0  \n",
       "total_charges             92.75       4627.65            3707.6  \n",
       "churn                        No            No                No  \n",
       "tenure                      1.8          68.2              62.8  \n",
       "rounded_tenure                2            68                63  \n",
       "has_phone                  True          True             False  \n",
       "has_internet               True          True              True  \n",
       "internet_phone             True          True             False  \n",
       "female_dependents         False         False             False  \n",
       "male_dependents           False          True              True  \n",
       "\n",
       "[19 rows x 7049 columns]"
      ]
     },
     "execution_count": 22,
     "metadata": {},
     "output_type": "execute_result"
    }
   ],
   "source": [
    "telcom.T"
   ]
  },
  {
   "cell_type": "markdown",
   "id": "c6aa90df",
   "metadata": {},
   "source": [
    "# STEP 2: KNOW YOUR DATA\n",
    "### We have a range of info about customers from telcoCo, including those that have churned and haven't churned\n",
    "### the monthly charges range from 18.25 - 118.75, but includes those that only have one line vs multiple lines and includes both types of services. \n",
    "### the dataset includes males and females along with elderly and depenedents\n",
    "### 11 null values in total charges. if needed, will fill column the cells with averages using         column_means = df. mean()       df = df. fillna(column_means)   \n",
    "### realized labled dataframe as telcom instead of telco. set telco equal to telcom. will switch to telco and use telco in remainder. \n"
   ]
  },
  {
   "cell_type": "code",
   "execution_count": 27,
   "id": "e47fbfda",
   "metadata": {},
   "outputs": [
    {
     "data": {
      "text/plain": [
       "customer_id           0\n",
       "gender                0\n",
       "is_senior_citizen     0\n",
       "partner               0\n",
       "dependents            0\n",
       "phone_service         0\n",
       "internet_service      0\n",
       "contract_type         0\n",
       "payment_type          0\n",
       "monthly_charges       0\n",
       "total_charges        11\n",
       "churn                 0\n",
       "tenure                0\n",
       "rounded_tenure        0\n",
       "has_phone             0\n",
       "has_internet          0\n",
       "internet_phone        0\n",
       "female_dependents     0\n",
       "male_dependents       0\n",
       "dtype: int64"
      ]
     },
     "execution_count": 27,
     "metadata": {},
     "output_type": "execute_result"
    }
   ],
   "source": [
    "telcom.isna().sum()"
   ]
  },
  {
   "cell_type": "code",
   "execution_count": 23,
   "id": "b74dddfd",
   "metadata": {},
   "outputs": [
    {
     "data": {
      "text/plain": [
       "18.25"
      ]
     },
     "execution_count": 23,
     "metadata": {},
     "output_type": "execute_result"
    }
   ],
   "source": [
    "telcom.monthly_charges.min()"
   ]
  },
  {
   "cell_type": "code",
   "execution_count": 24,
   "id": "336cbdfa",
   "metadata": {},
   "outputs": [
    {
     "data": {
      "text/plain": [
       "118.75"
      ]
     },
     "execution_count": 24,
     "metadata": {},
     "output_type": "execute_result"
    }
   ],
   "source": [
    "telcom.monthly_charges.max()"
   ]
  },
  {
   "cell_type": "code",
   "execution_count": 10,
   "id": "386b8f32",
   "metadata": {},
   "outputs": [
    {
     "data": {
      "text/plain": [
       "False    6018\n",
       "True     1031\n",
       "Name: female_dependents, dtype: int64"
      ]
     },
     "execution_count": 10,
     "metadata": {},
     "output_type": "execute_result"
    }
   ],
   "source": [
    "telcom.female_dependents.value_counts()"
   ]
  },
  {
   "cell_type": "code",
   "execution_count": 11,
   "id": "025caff9",
   "metadata": {},
   "outputs": [
    {
     "data": {
      "text/plain": [
       "False    5965\n",
       "True     1084\n",
       "Name: male_dependents, dtype: int64"
      ]
     },
     "execution_count": 11,
     "metadata": {},
     "output_type": "execute_result"
    }
   ],
   "source": [
    "telcom.male_dependents.value_counts()"
   ]
  },
  {
   "cell_type": "markdown",
   "id": "ef285d8c",
   "metadata": {},
   "source": [
    "# STEP 3 answer initial hypothesis\n",
    "### checking variables against churn to see if there are any significant outliers. "
   ]
  },
  {
   "cell_type": "markdown",
   "id": "e751a492",
   "metadata": {},
   "source": [
    "# Gender and Churn"
   ]
  },
  {
   "cell_type": "code",
   "execution_count": 12,
   "id": "2f8f1ab4",
   "metadata": {},
   "outputs": [
    {
     "data": {
      "text/plain": [
       "<seaborn.axisgrid.FacetGrid at 0x7fb66ba54b50>"
      ]
     },
     "execution_count": 12,
     "metadata": {},
     "output_type": "execute_result"
    },
    {
     "data": {
      "image/png": "[encoded data removed]",
      "text/plain": [
       "<Figure size 432.125x360 with 1 Axes>"
      ]
     },
     "metadata": {
      "needs_background": "light"
     },
     "output_type": "display_data"
    }
   ],
   "source": [
    "sns.displot(x='churn', data = telcom, hue= 'gender', multiple ='stack')"
   ]
  },
  {
   "cell_type": "code",
   "execution_count": 13,
   "id": "60b6a087",
   "metadata": {},
   "outputs": [
    {
     "data": {
      "text/plain": [
       "<seaborn.axisgrid.FacetGrid at 0x7fb618133640>"
      ]
     },
     "execution_count": 13,
     "metadata": {},
     "output_type": "execute_result"
    },
    {
     "data": {
      "image/png": "[encoded data removed]",
      "text/plain": [
       "<Figure size 432.125x360 with 1 Axes>"
      ]
     },
     "metadata": {
      "needs_background": "light"
     },
     "output_type": "display_data"
    }
   ],
   "source": [
    "sns.displot(x='churn', data = telcom, hue= 'gender', multiple ='dodge')"
   ]
  },
  {
   "cell_type": "markdown",
   "id": "2e012458",
   "metadata": {},
   "source": [
    "# has dependents"
   ]
  },
  {
   "cell_type": "code",
   "execution_count": 14,
   "id": "12495c67",
   "metadata": {},
   "outputs": [
    {
     "data": {
      "text/plain": [
       "<seaborn.axisgrid.FacetGrid at 0x7fb6586b4c40>"
      ]
     },
     "execution_count": 14,
     "metadata": {},
     "output_type": "execute_result"
    },
    {
     "data": {
      "image/png": "[encoded data removed]",
      "text/plain": [
       "<Figure size 466.75x360 with 1 Axes>"
      ]
     },
     "metadata": {
      "needs_background": "light"
     },
     "output_type": "display_data"
    }
   ],
   "source": [
    "sns.displot(x='churn', data = telcom, hue = 'female_dependents', multiple = 'dodge')"
   ]
  },
  {
   "cell_type": "markdown",
   "id": "849472ca",
   "metadata": {},
   "source": [
    "\n",
    "#### females with dependants have a very low churn rate. this could be indicative of multiple lines "
   ]
  },
  {
   "cell_type": "code",
   "execution_count": 15,
   "id": "8bdda174",
   "metadata": {
    "scrolled": true
   },
   "outputs": [
    {
     "data": {
      "text/plain": [
       "<seaborn.axisgrid.FacetGrid at 0x7fb66c114280>"
      ]
     },
     "execution_count": 15,
     "metadata": {},
     "output_type": "execute_result"
    },
    {
     "data": {
      "image/png": "[encoded data removed]",
      "text/plain": [
       "<Figure size 457x360 with 1 Axes>"
      ]
     },
     "metadata": {
      "needs_background": "light"
     },
     "output_type": "display_data"
    }
   ],
   "source": [
    "sns.displot(x='churn', data = telcom, hue = 'male_dependents', multiple = 'dodge')"
   ]
  },
  {
   "cell_type": "markdown",
   "id": "1d71d758",
   "metadata": {},
   "source": [
    "#### males with dependants also have a low churn rate. "
   ]
  },
  {
   "cell_type": "markdown",
   "id": "e624865c",
   "metadata": {},
   "source": [
    "# has phone and or internet"
   ]
  },
  {
   "cell_type": "code",
   "execution_count": 16,
   "id": "7f09d9b1",
   "metadata": {},
   "outputs": [
    {
     "data": {
      "text/plain": [
       "<seaborn.axisgrid.FacetGrid at 0x7fb66c114310>"
      ]
     },
     "execution_count": 16,
     "metadata": {},
     "output_type": "execute_result"
    },
    {
     "data": {
      "image/png": "[encoded data removed]",
      "text/plain": [
       "<Figure size 443.75x360 with 1 Axes>"
      ]
     },
     "metadata": {
      "needs_background": "light"
     },
     "output_type": "display_data"
    }
   ],
   "source": [
    "sns.displot(x='churn', data = telcom, hue = 'internet_phone', multiple = 'dodge')"
   ]
  },
  {
   "cell_type": "code",
   "execution_count": 17,
   "id": "7fc9dc24",
   "metadata": {},
   "outputs": [
    {
     "data": {
      "text/plain": [
       "<seaborn.axisgrid.FacetGrid at 0x7fb658b68310>"
      ]
     },
     "execution_count": 17,
     "metadata": {},
     "output_type": "execute_result"
    },
    {
     "data": {
      "image/png": "[encoded data removed]",
      "text/plain": [
       "<Figure size 421.875x360 with 1 Axes>"
      ]
     },
     "metadata": {
      "needs_background": "light"
     },
     "output_type": "display_data"
    }
   ],
   "source": [
    "sns.displot(x='churn', data = telcom, hue = 'has_phone', multiple = 'dodge')"
   ]
  },
  {
   "cell_type": "code",
   "execution_count": 18,
   "id": "d9d857e6",
   "metadata": {},
   "outputs": [
    {
     "data": {
      "text/plain": [
       "<seaborn.axisgrid.FacetGrid at 0x7fb66bce61c0>"
      ]
     },
     "execution_count": 18,
     "metadata": {},
     "output_type": "execute_result"
    },
    {
     "data": {
      "image/png": "[encoded data removed]",
      "text/plain": [
       "<Figure size 430.375x360 with 1 Axes>"
      ]
     },
     "metadata": {
      "needs_background": "light"
     },
     "output_type": "display_data"
    }
   ],
   "source": [
    "sns.displot(x='churn', data = telcom, hue = 'has_internet', multiple = 'dodge')"
   ]
  },
  {
   "cell_type": "markdown",
   "id": "5f507b5c",
   "metadata": {},
   "source": [
    "# Monthly Charges and churn \n",
    "\n"
   ]
  },
  {
   "cell_type": "code",
   "execution_count": 19,
   "id": "9adcaf28",
   "metadata": {},
   "outputs": [
    {
     "data": {
      "text/plain": [
       "<AxesSubplot:xlabel='churn', ylabel='monthly_charges'>"
      ]
     },
     "execution_count": 19,
     "metadata": {},
     "output_type": "execute_result"
    },
    {
     "data": {
      "image/png": "[encoded data removed]",
      "text/plain": [
       "<Figure size 432x288 with 1 Axes>"
      ]
     },
     "metadata": {
      "needs_background": "light"
     },
     "output_type": "display_data"
    }
   ],
   "source": [
    "sns.boxplot(x= 'churn' , y = 'monthly_charges' , data = telcom)"
   ]
  },
  {
   "cell_type": "markdown",
   "id": "3292f5b0",
   "metadata": {},
   "source": [
    "#### those that churned have a higher average monthly charge than those that didn't churn "
   ]
  },
  {
   "cell_type": "markdown",
   "id": "d1083177",
   "metadata": {},
   "source": [
    "# Tenure and Churn"
   ]
  },
  {
   "cell_type": "code",
   "execution_count": 35,
   "id": "028d259d",
   "metadata": {},
   "outputs": [
    {
     "data": {
      "text/plain": [
       "<AxesSubplot:xlabel='churn', ylabel='tenure'>"
      ]
     },
     "execution_count": 35,
     "metadata": {},
     "output_type": "execute_result"
    },
    {
     "data": {
      "image/png": "[encoded data removed]",
      "text/plain": [
       "<Figure size 432x288 with 1 Axes>"
      ]
     },
     "metadata": {
      "needs_background": "light"
     },
     "output_type": "display_data"
    }
   ],
   "source": [
    "sns.boxplot(x= 'churn' , y = 'tenure' , data = telcom)"
   ]
  },
  {
   "cell_type": "markdown",
   "id": "211a98b4",
   "metadata": {},
   "source": [
    "#### those that have a higher tenure seem to be less likely to churn"
   ]
  },
  {
   "cell_type": "markdown",
   "id": "e18aa8f5",
   "metadata": {},
   "source": [
    "# Contract type and Churn"
   ]
  },
  {
   "cell_type": "code",
   "execution_count": 21,
   "id": "bff36879",
   "metadata": {},
   "outputs": [
    {
     "data": {
      "text/plain": [
       "<AxesSubplot:xlabel='contract_type', ylabel='monthly_charges'>"
      ]
     },
     "execution_count": 21,
     "metadata": {},
     "output_type": "execute_result"
    },
    {
     "data": {
      "image/png": "[encoded data removed]",
      "text/plain": [
       "<Figure size 432x288 with 1 Axes>"
      ]
     },
     "metadata": {
      "needs_background": "light"
     },
     "output_type": "display_data"
    }
   ],
   "source": [
    "sns.boxplot(x= 'contract_type' , y = 'monthly_charges', data = telcom)"
   ]
  },
  {
   "cell_type": "markdown",
   "id": "d78c7784",
   "metadata": {},
   "source": [
    "#### average monthly charges don't seem to be influenced too much by contract type"
   ]
  },
  {
   "cell_type": "code",
   "execution_count": null,
   "id": "444e5eba",
   "metadata": {},
   "outputs": [],
   "source": []
  }
 ],
 "metadata": {
  "kernelspec": {
   "display_name": "Python 3 (ipykernel)",
   "language": "python",
   "name": "python3"
  },
  "language_info": {
   "codemirror_mode": {
    "name": "ipython",
    "version": 3
   },
   "file_extension": ".py",
   "mimetype": "text/x-python",
   "name": "python",
   "nbconvert_exporter": "python",
   "pygments_lexer": "ipython3",
   "version": "3.9.7"
  }
 },
 "nbformat": 4,
 "nbformat_minor": 5
}
